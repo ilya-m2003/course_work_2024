{
 "cells": [
  {
   "cell_type": "markdown",
   "id": "0059c872",
   "metadata": {},
   "source": [
    "# Подготовительный этап"
   ]
  },
  {
   "cell_type": "code",
   "execution_count": 1,
   "id": "b8d018e7",
   "metadata": {
    "colab": {
     "base_uri": "https://localhost:8080/",
     "height": 495
    },
    "id": "b8d018e7",
    "outputId": "237aebd1-f3ae-49d0-8542-bcb53b7411b2"
   },
   "outputs": [],
   "source": [
    "import dgl\n",
    "import torch"
   ]
  },
  {
   "cell_type": "code",
   "execution_count": 2,
   "id": "7103723c",
   "metadata": {
    "id": "7103723c"
   },
   "outputs": [],
   "source": [
    "import scipy.io as sio\n",
    "file_path = 'econ-psmigr1.mtx'\n",
    "mat_contents = sio.mmread(file_path)\n",
    "A = mat_contents.A"
   ]
  },
  {
   "cell_type": "code",
   "execution_count": 3,
   "id": "efe9608e",
   "metadata": {
    "id": "efe9608e"
   },
   "outputs": [],
   "source": [
    "import networkx as nx\n",
    "G = nx.from_numpy_array(A)"
   ]
  },
  {
   "cell_type": "code",
   "execution_count": 4,
   "id": "d795ae0b",
   "metadata": {
    "id": "d795ae0b"
   },
   "outputs": [],
   "source": [
    "node_weights = {k: 0 for k in list(G.nodes)}\n",
    "node_mid_neighbor = {k: 0 for k in list(G.nodes)}\n",
    "for i, j, w in G.edges(data=True):\n",
    "    node_weights[i] += w[\"weight\"]\n",
    "    node_weights[j] += w[\"weight\"]\n",
    "for i in G.nodes:\n",
    "    for n in G.neighbors(i):\n",
    "        node_mid_neighbor[i] += node_weights[n]\n",
    "    node_mid_neighbor[i] /= len(list(G.neighbors(i)))"
   ]
  },
  {
   "cell_type": "code",
   "execution_count": 5,
   "id": "ffb5b1e5",
   "metadata": {
    "id": "ffb5b1e5"
   },
   "outputs": [],
   "source": [
    "y = []\n",
    "for u in G.nodes:\n",
    "    for v in G.nodes:\n",
    "        if u != v:\n",
    "            if G.has_edge(u, v):\n",
    "                y.append(1)\n",
    "            else:\n",
    "                y.append(0)\n",
    "            u_weight = node_weights[u]\n",
    "            v_weight = node_weights[v]\n",
    "            u_mid = node_mid_neighbor[u]\n",
    "            v_mid =node_mid_neighbor[v]"
   ]
  },
  {
   "cell_type": "code",
   "execution_count": 6,
   "id": "309060f3",
   "metadata": {
    "id": "309060f3"
   },
   "outputs": [],
   "source": [
    "X = []\n",
    "for i in range(len(list(G.nodes))):\n",
    "    X.append((list(node_weights.values())[i], list(node_mid_neighbor.values())[i]))"
   ]
  },
  {
   "cell_type": "code",
   "execution_count": 7,
   "id": "83355f0c",
   "metadata": {
    "id": "83355f0c"
   },
   "outputs": [],
   "source": [
    "X = torch.tensor(X)\n",
    "y = torch.tensor(y)"
   ]
  },
  {
   "cell_type": "code",
   "execution_count": 8,
   "id": "c65a2bdc",
   "metadata": {
    "id": "c65a2bdc"
   },
   "outputs": [],
   "source": [
    "import dgl.data\n",
    "g = dgl.from_networkx(G)"
   ]
  },
  {
   "cell_type": "code",
   "execution_count": 9,
   "id": "b35c801b",
   "metadata": {
    "id": "b35c801b"
   },
   "outputs": [],
   "source": [
    "g.ndata[\"feat\"] = X"
   ]
  },
  {
   "cell_type": "code",
   "execution_count": 10,
   "id": "73a42d6b",
   "metadata": {
    "id": "73a42d6b"
   },
   "outputs": [],
   "source": [
    "import dgl\n",
    "import torch\n",
    "import torch.nn as nn\n",
    "import torch.nn.functional as F\n",
    "import itertools\n",
    "import numpy as np\n",
    "import scipy.sparse as sp"
   ]
  },
  {
   "cell_type": "code",
   "execution_count": 11,
   "id": "453f3e20",
   "metadata": {
    "id": "453f3e20"
   },
   "outputs": [],
   "source": [
    "u, v = g.edges()\n",
    "\n",
    "eids = np.arange(g.number_of_edges())\n",
    "eids = np.random.permutation(eids)\n",
    "test_size = int(len(eids) * 0.1)\n",
    "train_size = g.number_of_edges() - test_size\n",
    "test_pos_u, test_pos_v = u[eids[:test_size]], v[eids[:test_size]]\n",
    "train_pos_u, train_pos_v = u[eids[test_size:]], v[eids[test_size:]]\n",
    "\n",
    "adj = sp.coo_matrix((np.ones(len(u)), (u.numpy(), v.numpy())))\n",
    "adj_neg = 1 - adj.todense() - np.eye(g.number_of_nodes())\n",
    "neg_u, neg_v = np.where(adj_neg != 0)\n",
    "\n",
    "neg_eids = np.random.choice(len(neg_u), g.number_of_edges())\n",
    "test_neg_u, test_neg_v = neg_u[neg_eids[:test_size]], neg_v[neg_eids[:test_size]]\n",
    "train_neg_u, train_neg_v = neg_u[neg_eids[test_size:]], neg_v[neg_eids[test_size:]]"
   ]
  },
  {
   "cell_type": "code",
   "execution_count": 12,
   "id": "71c1c065",
   "metadata": {
    "id": "71c1c065"
   },
   "outputs": [],
   "source": [
    "from dgl.nn import SAGEConv\n",
    "\n",
    "class GraphSAGE(nn.Module):\n",
    "    def __init__(self, in_feats, h_feats):\n",
    "        super(GraphSAGE, self).__init__()\n",
    "        self.conv1 = SAGEConv(in_feats, h_feats, 'mean')\n",
    "        self.conv2 = SAGEConv(h_feats, h_feats, 'mean')\n",
    "\n",
    "    def forward(self, g, in_feat):\n",
    "        h = self.conv1(g, in_feat)\n",
    "        h = F.relu(h)\n",
    "        h = self.conv2(g, h)\n",
    "        return h"
   ]
  },
  {
   "cell_type": "code",
   "execution_count": 13,
   "id": "456c052c",
   "metadata": {
    "id": "456c052c"
   },
   "outputs": [],
   "source": [
    "train_pos_g = dgl.graph((train_pos_u, train_pos_v), num_nodes=g.number_of_nodes())\n",
    "train_neg_g = dgl.graph((train_neg_u, train_neg_v), num_nodes=g.number_of_nodes())\n",
    "\n",
    "test_pos_g = dgl.graph((test_pos_u, test_pos_v), num_nodes=g.number_of_nodes())\n",
    "test_neg_g = dgl.graph((test_neg_u, test_neg_v), num_nodes=g.number_of_nodes())"
   ]
  },
  {
   "cell_type": "code",
   "execution_count": 14,
   "id": "471a12e0",
   "metadata": {
    "id": "471a12e0"
   },
   "outputs": [],
   "source": [
    "import dgl.function as fn\n",
    "\n",
    "class DotPredictor(nn.Module):\n",
    "    def forward(self, g, h):\n",
    "        with g.local_scope():\n",
    "            g.ndata['h'] = h\n",
    "            g.apply_edges(fn.u_dot_v('h', 'h', 'score'))\n",
    "            return g.edata['score'][:, 0]"
   ]
  },
  {
   "cell_type": "code",
   "execution_count": 15,
   "id": "a00fbbf7",
   "metadata": {
    "id": "a00fbbf7"
   },
   "outputs": [],
   "source": [
    "class MLPPredictor(nn.Module):\n",
    "    def __init__(self, h_feats):\n",
    "        super().__init__()\n",
    "        self.W1 = nn.Linear(h_feats * 2, h_feats)\n",
    "        self.W2 = nn.Linear(h_feats, 1)\n",
    "\n",
    "    def apply_edges(self, edges):\n",
    "        h = torch.cat([edges.src['h'], edges.dst['h']], 1)\n",
    "        return {'score': self.W2(F.relu(self.W1(h))).squeeze(1)}\n",
    "\n",
    "    def forward(self, g, h):\n",
    "        with g.local_scope():\n",
    "            g.ndata['h'] = h\n",
    "            g.apply_edges(self.apply_edges)\n",
    "            return g.edata['score']"
   ]
  },
  {
   "cell_type": "code",
   "execution_count": 16,
   "id": "b45e17a9",
   "metadata": {
    "id": "b45e17a9"
   },
   "outputs": [],
   "source": [
    "train_g = dgl.remove_edges(g, eids[:test_size])"
   ]
  },
  {
   "cell_type": "code",
   "execution_count": 17,
   "id": "7358e332",
   "metadata": {
    "id": "7358e332"
   },
   "outputs": [],
   "source": [
    "model = GraphSAGE(train_g.ndata['feat'].shape[1], 16)\n",
    "pred = MLPPredictor(16)\n",
    "\n",
    "\n",
    "def compute_loss(pos_score, neg_score):\n",
    "    scores = torch.cat([pos_score, neg_score])\n",
    "    labels = torch.cat([torch.ones(pos_score.shape[0]), torch.zeros(neg_score.shape[0])])\n",
    "    return F.binary_cross_entropy_with_logits(scores, labels)\n",
    "\n",
    "def compute_metrics(pos_score, neg_score):\n",
    "    scores = torch.where(torch.cat([pos_score, neg_score]) >= (torch.mean(pos_score) + torch.mean(neg_score)) / 2, 1, 0)\n",
    "    labels = torch.cat(\n",
    "        [torch.ones(pos_score.shape[0]), torch.zeros(neg_score.shape[0])]).numpy()\n",
    "    print(labels, scores, labels.shape, scores.shape)\n",
    "    return accuracy_score(labels, scores), balanced_accuracy_score(labels, scores), f1_score(labels, scores), precision_score(labels, scores), roc_auc_score(labels, scores)"
   ]
  },
  {
   "cell_type": "code",
   "execution_count": 18,
   "id": "71df7f51",
   "metadata": {
    "id": "71df7f51",
    "scrolled": true
   },
   "outputs": [],
   "source": [
    "from sklearn.metrics import accuracy_score, f1_score, precision_score, roc_auc_score, balanced_accuracy_score"
   ]
  },
  {
   "cell_type": "markdown",
   "id": "0ea7e43d",
   "metadata": {},
   "source": [
    "## Модель I"
   ]
  },
  {
   "cell_type": "code",
   "execution_count": 19,
   "id": "21a8f4a2",
   "metadata": {
    "id": "21a8f4a2",
    "outputId": "514fcc0e-2cf1-4b77-ca18-98bfe88adf0b"
   },
   "outputs": [
    {
     "name": "stdout",
     "output_type": "stream",
     "text": [
      "Wall time: 18min 1s\n"
     ]
    }
   ],
   "source": [
    "%%time\n",
    "import pandas as pd\n",
    "from sklearn.metrics import accuracy_score, f1_score, precision_score, roc_auc_score\n",
    "\n",
    "df_result = pd.DataFrame({\"lr\", \"hidden_dim\", \"accuracy_score\", \"balanced_accuracy_score\", \"f1_score\", \"precision_score\", \"roc_auc_score\"})\n",
    "\n",
    "for hidden_dim in [16, 64, 256]:\n",
    "    for lr in [0.005, 0.01]:\n",
    "        model = GraphSAGE(train_g.ndata['feat'].shape[1], hidden_dim)\n",
    "        pred = MLPPredictor(hidden_dim)\n",
    "\n",
    "        def compute_loss(pos_score, neg_score):\n",
    "            scores = torch.cat([pos_score, neg_score])\n",
    "            labels = torch.cat([torch.ones(pos_score.shape[0]), torch.zeros(neg_score.shape[0])])\n",
    "            return F.binary_cross_entropy_with_logits(scores, labels)\n",
    "\n",
    "        def compute_auc(pos_score, neg_score):\n",
    "            scores = torch.cat([pos_score, neg_score]).numpy()\n",
    "            labels = torch.cat(\n",
    "                [torch.ones(pos_score.shape[0]), torch.zeros(neg_score.shape[0])]).numpy()\n",
    "            return roc_auc_score(labels, scores)\n",
    "\n",
    "        def compute_metrics(pos_score, neg_score):\n",
    "            scores = torch.where(torch.cat([pos_score, neg_score]) >= (torch.mean(pos_score) + torch.mean(neg_score)) / 2, 1, 0)\n",
    "            labels = torch.cat(\n",
    "                [torch.ones(pos_score.shape[0]), torch.zeros(neg_score.shape[0])]).numpy()\n",
    "            return accuracy_score(labels, scores), balanced_accuracy_score(labels, scores), f1_score(labels, scores), precision_score(labels, scores), roc_auc_score(labels, scores)\n",
    "\n",
    "        optimizer = torch.optim.Adam(itertools.chain(model.parameters(), pred.parameters()), lr=lr)\n",
    "\n",
    "        all_logits = []\n",
    "        for e in range(50):\n",
    "            h = model(train_g, train_g.ndata['feat'])\n",
    "            pos_score = pred(train_pos_g, h)\n",
    "            neg_score = pred(train_neg_g, h)\n",
    "            loss = compute_loss(pos_score, neg_score)\n",
    "            optimizer.zero_grad()\n",
    "            loss.backward()\n",
    "            optimizer.step()\n",
    "\n",
    "        with torch.no_grad():\n",
    "            pos_score = pred(test_pos_g, h)\n",
    "            neg_score = pred(test_neg_g, h)\n",
    "            accuracy_scor, balanced_accuracy_scor, f1_scor, precision_scor, _ = compute_metrics(pos_score, neg_score)\n",
    "            roc_auc_scor = compute_auc(pos_score, neg_score)\n",
    "            df_result = df_result.append({\"lr\": lr, \"hidden_dim\": hidden_dim, \"accuracy_score\": accuracy_scor, \"balanced_accuracy_score\": balanced_accuracy_scor, \"f1_score\": f1_scor, \"precision_score\": precision_scor, \"roc_auc_score\": roc_auc_scor}, ignore_index=True)"
   ]
  },
  {
   "cell_type": "code",
   "execution_count": 20,
   "id": "f33f7134",
   "metadata": {
    "id": "f33f7134",
    "outputId": "38d7a8d5-7a25-4a03-d97c-885ae0f0de50",
    "scrolled": true
   },
   "outputs": [
    {
     "data": {
      "text/html": [
       "<div>\n",
       "<style scoped>\n",
       "    .dataframe tbody tr th:only-of-type {\n",
       "        vertical-align: middle;\n",
       "    }\n",
       "\n",
       "    .dataframe tbody tr th {\n",
       "        vertical-align: top;\n",
       "    }\n",
       "\n",
       "    .dataframe thead th {\n",
       "        text-align: right;\n",
       "    }\n",
       "</style>\n",
       "<table border=\"1\" class=\"dataframe\">\n",
       "  <thead>\n",
       "    <tr style=\"text-align: right;\">\n",
       "      <th></th>\n",
       "      <th>accuracy_score</th>\n",
       "      <th>balanced_accuracy_score</th>\n",
       "      <th>f1_score</th>\n",
       "      <th>hidden_dim</th>\n",
       "      <th>lr</th>\n",
       "      <th>precision_score</th>\n",
       "      <th>roc_auc_score</th>\n",
       "    </tr>\n",
       "  </thead>\n",
       "  <tbody>\n",
       "    <tr>\n",
       "      <th>7</th>\n",
       "      <td>0.679611</td>\n",
       "      <td>0.679611</td>\n",
       "      <td>0.617567</td>\n",
       "      <td>16.0</td>\n",
       "      <td>0.005</td>\n",
       "      <td>0.765881</td>\n",
       "      <td>0.747525</td>\n",
       "    </tr>\n",
       "    <tr>\n",
       "      <th>8</th>\n",
       "      <td>0.633091</td>\n",
       "      <td>0.633091</td>\n",
       "      <td>0.456604</td>\n",
       "      <td>16.0</td>\n",
       "      <td>0.010</td>\n",
       "      <td>0.879792</td>\n",
       "      <td>0.758468</td>\n",
       "    </tr>\n",
       "    <tr>\n",
       "      <th>9</th>\n",
       "      <td>0.713217</td>\n",
       "      <td>0.713217</td>\n",
       "      <td>0.640863</td>\n",
       "      <td>64.0</td>\n",
       "      <td>0.005</td>\n",
       "      <td>0.857108</td>\n",
       "      <td>0.810931</td>\n",
       "    </tr>\n",
       "    <tr>\n",
       "      <th>10</th>\n",
       "      <td>0.711362</td>\n",
       "      <td>0.711362</td>\n",
       "      <td>0.632943</td>\n",
       "      <td>64.0</td>\n",
       "      <td>0.010</td>\n",
       "      <td>0.869051</td>\n",
       "      <td>0.818900</td>\n",
       "    </tr>\n",
       "    <tr>\n",
       "      <th>11</th>\n",
       "      <td>0.607857</td>\n",
       "      <td>0.607857</td>\n",
       "      <td>0.375700</td>\n",
       "      <td>256.0</td>\n",
       "      <td>0.005</td>\n",
       "      <td>0.920886</td>\n",
       "      <td>0.819918</td>\n",
       "    </tr>\n",
       "    <tr>\n",
       "      <th>12</th>\n",
       "      <td>0.533297</td>\n",
       "      <td>0.533297</td>\n",
       "      <td>0.130860</td>\n",
       "      <td>256.0</td>\n",
       "      <td>0.010</td>\n",
       "      <td>0.950312</td>\n",
       "      <td>0.702599</td>\n",
       "    </tr>\n",
       "  </tbody>\n",
       "</table>\n",
       "</div>"
      ],
      "text/plain": [
       "    accuracy_score  balanced_accuracy_score  f1_score  hidden_dim     lr  \\\n",
       "7         0.679611                 0.679611  0.617567        16.0  0.005   \n",
       "8         0.633091                 0.633091  0.456604        16.0  0.010   \n",
       "9         0.713217                 0.713217  0.640863        64.0  0.005   \n",
       "10        0.711362                 0.711362  0.632943        64.0  0.010   \n",
       "11        0.607857                 0.607857  0.375700       256.0  0.005   \n",
       "12        0.533297                 0.533297  0.130860       256.0  0.010   \n",
       "\n",
       "    precision_score  roc_auc_score  \n",
       "7          0.765881       0.747525  \n",
       "8          0.879792       0.758468  \n",
       "9          0.857108       0.810931  \n",
       "10         0.869051       0.818900  \n",
       "11         0.920886       0.819918  \n",
       "12         0.950312       0.702599  "
      ]
     },
     "execution_count": 20,
     "metadata": {},
     "output_type": "execute_result"
    }
   ],
   "source": [
    "df_result.iloc[7:, 1:]"
   ]
  },
  {
   "cell_type": "markdown",
   "id": "9ee7a9a7",
   "metadata": {
    "id": "9ee7a9a7"
   },
   "source": [
    "Наилучшие результаты показала модель с lr = 0.05 и hidden_dim = 64. Некоторые из предыдущих моделей имеют очень плохие показатели, что может быть связно с переобучением."
   ]
  },
  {
   "cell_type": "markdown",
   "id": "651dfda1",
   "metadata": {},
   "source": [
    "## Модель II"
   ]
  },
  {
   "cell_type": "code",
   "execution_count": 21,
   "id": "OVn2ONBUVJBF",
   "metadata": {
    "id": "OVn2ONBUVJBF"
   },
   "outputs": [],
   "source": [
    "model = GraphSAGE(train_g.ndata['feat'].shape[1], 16)\n",
    "pred = DotPredictor()\n",
    "\n",
    "def compute_loss(pos_score, neg_score):\n",
    "    scores = torch.cat([pos_score, neg_score])\n",
    "    labels = torch.cat([torch.ones(pos_score.shape[0]), torch.zeros(neg_score.shape[0])])\n",
    "    return F.binary_cross_entropy_with_logits(scores, labels)\n",
    "\n",
    "def compute_metrics(pos_score, neg_score):\n",
    "    scores = torch.where(torch.cat([pos_score, neg_score]) >= (torch.mean(pos_score) + torch.mean(neg_score)) / 2, 1, 0)\n",
    "    labels = torch.cat(\n",
    "        [torch.ones(pos_score.shape[0]), torch.zeros(neg_score.shape[0])]).numpy()\n",
    "    print(labels, scores, labels.shape, scores.shape)\n",
    "    return accuracy_score(labels, scores), balanced_accuracy_score(labels, scores), f1_score(labels, scores), precision_score(labels, scores), roc_auc_score(labels, scores)"
   ]
  },
  {
   "cell_type": "code",
   "execution_count": 22,
   "id": "0jWz6yLuVJBL",
   "metadata": {
    "id": "0jWz6yLuVJBL",
    "scrolled": true
   },
   "outputs": [],
   "source": [
    "from sklearn.metrics import accuracy_score, f1_score, precision_score, roc_auc_score, balanced_accuracy_score"
   ]
  },
  {
   "cell_type": "code",
   "execution_count": 23,
   "id": "ZjJCzPUnVJBL",
   "metadata": {
    "id": "ZjJCzPUnVJBL",
    "outputId": "514fcc0e-2cf1-4b77-ca18-98bfe88adf0b"
   },
   "outputs": [
    {
     "name": "stdout",
     "output_type": "stream",
     "text": [
      "Wall time: 11min 45s\n"
     ]
    }
   ],
   "source": [
    "%%time\n",
    "import pandas as pd\n",
    "from sklearn.metrics import accuracy_score, f1_score, precision_score, roc_auc_score\n",
    "\n",
    "df_result = pd.DataFrame({\"lr\", \"hidden_dim\", \"accuracy_score\", \"balanced_accuracy_score\", \"f1_score\", \"precision_score\", \"roc_auc_score\"})\n",
    "\n",
    "for hidden_dim in [16, 64, 256]:\n",
    "    for lr in [0.005, 0.01]:\n",
    "        model = GraphSAGE(train_g.ndata['feat'].shape[1], hidden_dim)\n",
    "        pred = DotPredictor()\n",
    "\n",
    "        def compute_loss(pos_score, neg_score):\n",
    "            scores = torch.cat([pos_score, neg_score])\n",
    "            labels = torch.cat([torch.ones(pos_score.shape[0]), torch.zeros(neg_score.shape[0])])\n",
    "            return F.binary_cross_entropy_with_logits(scores, labels)\n",
    "\n",
    "        def compute_auc(pos_score, neg_score):\n",
    "            scores = torch.cat([pos_score, neg_score]).numpy()\n",
    "            labels = torch.cat(\n",
    "                [torch.ones(pos_score.shape[0]), torch.zeros(neg_score.shape[0])]).numpy()\n",
    "            return roc_auc_score(labels, scores)\n",
    "\n",
    "        def compute_metrics(pos_score, neg_score):\n",
    "            scores = torch.where(torch.cat([pos_score, neg_score]) >= (torch.mean(pos_score) + torch.mean(neg_score)) / 2, 1, 0)\n",
    "            labels = torch.cat(\n",
    "                [torch.ones(pos_score.shape[0]), torch.zeros(neg_score.shape[0])]).numpy()\n",
    "            return accuracy_score(labels, scores), balanced_accuracy_score(labels, scores), f1_score(labels, scores), precision_score(labels, scores), roc_auc_score(labels, scores)\n",
    "\n",
    "        optimizer = torch.optim.Adam(itertools.chain(model.parameters(), pred.parameters()), lr=lr)\n",
    "\n",
    "        all_logits = []\n",
    "        for e in range(300):\n",
    "            h = model(train_g, train_g.ndata['feat'])\n",
    "            pos_score = pred(train_pos_g, h)\n",
    "            neg_score = pred(train_neg_g, h)\n",
    "            loss = compute_loss(pos_score, neg_score)\n",
    "            optimizer.zero_grad()\n",
    "            loss.backward()\n",
    "            optimizer.step()\n",
    "\n",
    "        with torch.no_grad():\n",
    "            pos_score = pred(test_pos_g, h)\n",
    "            neg_score = pred(test_neg_g, h)\n",
    "            accuracy_scor, balanced_accuracy_scor, f1_scor, precision_scor, _ = compute_metrics(pos_score, neg_score)\n",
    "            roc_auc_scor = compute_auc(pos_score, neg_score)\n",
    "            df_result = df_result.append({\"lr\": lr, \"hidden_dim\": hidden_dim, \"accuracy_score\": accuracy_scor, \"balanced_accuracy_score\": balanced_accuracy_scor, \"f1_score\": f1_scor, \"precision_score\": precision_scor, \"roc_auc_score\": roc_auc_scor}, ignore_index=True)"
   ]
  },
  {
   "cell_type": "code",
   "execution_count": 24,
   "id": "3XzWnXv1VJBM",
   "metadata": {
    "id": "3XzWnXv1VJBM",
    "outputId": "38d7a8d5-7a25-4a03-d97c-885ae0f0de50",
    "scrolled": true
   },
   "outputs": [
    {
     "data": {
      "text/html": [
       "<div>\n",
       "<style scoped>\n",
       "    .dataframe tbody tr th:only-of-type {\n",
       "        vertical-align: middle;\n",
       "    }\n",
       "\n",
       "    .dataframe tbody tr th {\n",
       "        vertical-align: top;\n",
       "    }\n",
       "\n",
       "    .dataframe thead th {\n",
       "        text-align: right;\n",
       "    }\n",
       "</style>\n",
       "<table border=\"1\" class=\"dataframe\">\n",
       "  <thead>\n",
       "    <tr style=\"text-align: right;\">\n",
       "      <th></th>\n",
       "      <th>accuracy_score</th>\n",
       "      <th>balanced_accuracy_score</th>\n",
       "      <th>f1_score</th>\n",
       "      <th>hidden_dim</th>\n",
       "      <th>lr</th>\n",
       "      <th>precision_score</th>\n",
       "      <th>roc_auc_score</th>\n",
       "    </tr>\n",
       "  </thead>\n",
       "  <tbody>\n",
       "    <tr>\n",
       "      <th>7</th>\n",
       "      <td>0.630872</td>\n",
       "      <td>0.630872</td>\n",
       "      <td>0.429252</td>\n",
       "      <td>16.0</td>\n",
       "      <td>0.005</td>\n",
       "      <td>0.945918</td>\n",
       "      <td>0.747216</td>\n",
       "    </tr>\n",
       "    <tr>\n",
       "      <th>8</th>\n",
       "      <td>0.611677</td>\n",
       "      <td>0.611677</td>\n",
       "      <td>0.418499</td>\n",
       "      <td>16.0</td>\n",
       "      <td>0.010</td>\n",
       "      <td>0.832779</td>\n",
       "      <td>0.723422</td>\n",
       "    </tr>\n",
       "    <tr>\n",
       "      <th>9</th>\n",
       "      <td>0.607106</td>\n",
       "      <td>0.607106</td>\n",
       "      <td>0.374225</td>\n",
       "      <td>64.0</td>\n",
       "      <td>0.005</td>\n",
       "      <td>0.918864</td>\n",
       "      <td>0.746405</td>\n",
       "    </tr>\n",
       "    <tr>\n",
       "      <th>10</th>\n",
       "      <td>0.586832</td>\n",
       "      <td>0.586832</td>\n",
       "      <td>0.304910</td>\n",
       "      <td>64.0</td>\n",
       "      <td>0.010</td>\n",
       "      <td>0.959864</td>\n",
       "      <td>0.745954</td>\n",
       "    </tr>\n",
       "    <tr>\n",
       "      <th>11</th>\n",
       "      <td>0.581011</td>\n",
       "      <td>0.581011</td>\n",
       "      <td>0.306771</td>\n",
       "      <td>256.0</td>\n",
       "      <td>0.005</td>\n",
       "      <td>0.887979</td>\n",
       "      <td>0.738173</td>\n",
       "    </tr>\n",
       "    <tr>\n",
       "      <th>12</th>\n",
       "      <td>0.409791</td>\n",
       "      <td>0.409791</td>\n",
       "      <td>0.180088</td>\n",
       "      <td>256.0</td>\n",
       "      <td>0.010</td>\n",
       "      <td>0.294835</td>\n",
       "      <td>0.435153</td>\n",
       "    </tr>\n",
       "  </tbody>\n",
       "</table>\n",
       "</div>"
      ],
      "text/plain": [
       "    accuracy_score  balanced_accuracy_score  f1_score  hidden_dim     lr  \\\n",
       "7         0.630872                 0.630872  0.429252        16.0  0.005   \n",
       "8         0.611677                 0.611677  0.418499        16.0  0.010   \n",
       "9         0.607106                 0.607106  0.374225        64.0  0.005   \n",
       "10        0.586832                 0.586832  0.304910        64.0  0.010   \n",
       "11        0.581011                 0.581011  0.306771       256.0  0.005   \n",
       "12        0.409791                 0.409791  0.180088       256.0  0.010   \n",
       "\n",
       "    precision_score  roc_auc_score  \n",
       "7          0.945918       0.747216  \n",
       "8          0.832779       0.723422  \n",
       "9          0.918864       0.746405  \n",
       "10         0.959864       0.745954  \n",
       "11         0.887979       0.738173  \n",
       "12         0.294835       0.435153  "
      ]
     },
     "execution_count": 24,
     "metadata": {},
     "output_type": "execute_result"
    }
   ],
   "source": [
    "df_result.iloc[7:, 1:]"
   ]
  },
  {
   "cell_type": "markdown",
   "id": "5fbc2afb",
   "metadata": {},
   "source": [
    "## Модель III"
   ]
  },
  {
   "cell_type": "code",
   "execution_count": 25,
   "id": "34cfe48d",
   "metadata": {},
   "outputs": [],
   "source": [
    "class MLPPredictor(nn.Module):\n",
    "    def __init__(self, h_feats):\n",
    "        super().__init__()\n",
    "        self.W1 = nn.Linear(h_feats * 2, h_feats)\n",
    "        self.W2 = nn.Linear(h_feats, 1)\n",
    "\n",
    "    def apply_edges(self, edges):\n",
    "        h = torch.cat([edges.src['h'], edges.dst['h']], 1)\n",
    "        return {'score': self.W2(F.tanh(self.W1(h))).squeeze(1)}\n",
    "\n",
    "    def forward(self, g, h):\n",
    "        with g.local_scope():\n",
    "            g.ndata['h'] = h\n",
    "            g.apply_edges(self.apply_edges)\n",
    "            return g.edata['score']"
   ]
  },
  {
   "cell_type": "code",
   "execution_count": 26,
   "id": "f359fe8b",
   "metadata": {},
   "outputs": [
    {
     "name": "stdout",
     "output_type": "stream",
     "text": [
      "Wall time: 19min 17s\n"
     ]
    }
   ],
   "source": [
    "%%time\n",
    "import pandas as pd\n",
    "from sklearn.metrics import accuracy_score, f1_score, precision_score, roc_auc_score\n",
    "\n",
    "model = GraphSAGE(train_g.ndata['feat'].shape[1], 16)\n",
    "pred = DotPredictor()\n",
    "df_result = pd.DataFrame({\"lr\", \"hidden_dim\", \"accuracy_score\", \"balanced_accuracy_score\", \"f1_score\", \"precision_score\", \"roc_auc_score\"})\n",
    "\n",
    "for hidden_dim in [16, 64, 256]:\n",
    "    for lr in [0.005, 0.01]:\n",
    "        model = GraphSAGE(train_g.ndata['feat'].shape[1], hidden_dim)\n",
    "        pred = MLPPredictor(hidden_dim)\n",
    "\n",
    "        def compute_loss(pos_score, neg_score):\n",
    "            scores = torch.cat([pos_score, neg_score])\n",
    "            labels = torch.cat([torch.ones(pos_score.shape[0]), torch.zeros(neg_score.shape[0])])\n",
    "            return F.binary_cross_entropy_with_logits(scores, labels)\n",
    "\n",
    "        def compute_auc(pos_score, neg_score):\n",
    "            scores = torch.cat([pos_score, neg_score]).numpy()\n",
    "            labels = torch.cat(\n",
    "                [torch.ones(pos_score.shape[0]), torch.zeros(neg_score.shape[0])]).numpy()\n",
    "            return roc_auc_score(labels, scores)\n",
    "\n",
    "        def compute_metrics(pos_score, neg_score):\n",
    "            scores = torch.where(torch.cat([pos_score, neg_score]) >= (torch.mean(pos_score) + torch.mean(neg_score)) / 2, 1, 0)\n",
    "            labels = torch.cat(\n",
    "                [torch.ones(pos_score.shape[0]), torch.zeros(neg_score.shape[0])]).numpy()\n",
    "            return accuracy_score(labels, scores), balanced_accuracy_score(labels, scores), f1_score(labels, scores), precision_score(labels, scores), roc_auc_score(labels, scores)\n",
    "\n",
    "        optimizer = torch.optim.Adam(itertools.chain(model.parameters(), pred.parameters()), lr=lr)\n",
    "\n",
    "        all_logits = []\n",
    "        for e in range(50):\n",
    "            h = model(train_g, train_g.ndata['feat'])\n",
    "            pos_score = pred(train_pos_g, h)\n",
    "            neg_score = pred(train_neg_g, h)\n",
    "            loss = compute_loss(pos_score, neg_score)\n",
    "            optimizer.zero_grad()\n",
    "            loss.backward()\n",
    "            optimizer.step()\n",
    "\n",
    "        with torch.no_grad():\n",
    "            pos_score = pred(test_pos_g, h)\n",
    "            neg_score = pred(test_neg_g, h)\n",
    "            accuracy_scor, balanced_accuracy_scor, f1_scor, precision_scor, _ = compute_metrics(pos_score, neg_score)\n",
    "            roc_auc_scor = compute_auc(pos_score, neg_score)\n",
    "            df_result = df_result.append({\"lr\": lr, \"hidden_dim\": hidden_dim, \"accuracy_score\": accuracy_scor, \"balanced_accuracy_score\": balanced_accuracy_scor, \"f1_score\": f1_scor, \"precision_score\": precision_scor, \"roc_auc_score\": roc_auc_scor}, ignore_index=True)"
   ]
  },
  {
   "cell_type": "code",
   "execution_count": 27,
   "id": "17954a57",
   "metadata": {},
   "outputs": [
    {
     "data": {
      "text/html": [
       "<div>\n",
       "<style scoped>\n",
       "    .dataframe tbody tr th:only-of-type {\n",
       "        vertical-align: middle;\n",
       "    }\n",
       "\n",
       "    .dataframe tbody tr th {\n",
       "        vertical-align: top;\n",
       "    }\n",
       "\n",
       "    .dataframe thead th {\n",
       "        text-align: right;\n",
       "    }\n",
       "</style>\n",
       "<table border=\"1\" class=\"dataframe\">\n",
       "  <thead>\n",
       "    <tr style=\"text-align: right;\">\n",
       "      <th></th>\n",
       "      <th>accuracy_score</th>\n",
       "      <th>balanced_accuracy_score</th>\n",
       "      <th>f1_score</th>\n",
       "      <th>hidden_dim</th>\n",
       "      <th>lr</th>\n",
       "      <th>precision_score</th>\n",
       "      <th>roc_auc_score</th>\n",
       "    </tr>\n",
       "  </thead>\n",
       "  <tbody>\n",
       "    <tr>\n",
       "      <th>7</th>\n",
       "      <td>0.742597</td>\n",
       "      <td>0.742597</td>\n",
       "      <td>0.727301</td>\n",
       "      <td>16.0</td>\n",
       "      <td>0.005</td>\n",
       "      <td>0.773252</td>\n",
       "      <td>0.802886</td>\n",
       "    </tr>\n",
       "    <tr>\n",
       "      <th>8</th>\n",
       "      <td>0.746253</td>\n",
       "      <td>0.746253</td>\n",
       "      <td>0.719929</td>\n",
       "      <td>16.0</td>\n",
       "      <td>0.010</td>\n",
       "      <td>0.803261</td>\n",
       "      <td>0.810289</td>\n",
       "    </tr>\n",
       "    <tr>\n",
       "      <th>9</th>\n",
       "      <td>0.753425</td>\n",
       "      <td>0.753425</td>\n",
       "      <td>0.729343</td>\n",
       "      <td>64.0</td>\n",
       "      <td>0.005</td>\n",
       "      <td>0.808287</td>\n",
       "      <td>0.823507</td>\n",
       "    </tr>\n",
       "    <tr>\n",
       "      <th>10</th>\n",
       "      <td>0.754984</td>\n",
       "      <td>0.754984</td>\n",
       "      <td>0.737978</td>\n",
       "      <td>64.0</td>\n",
       "      <td>0.010</td>\n",
       "      <td>0.793019</td>\n",
       "      <td>0.822192</td>\n",
       "    </tr>\n",
       "    <tr>\n",
       "      <th>11</th>\n",
       "      <td>0.747769</td>\n",
       "      <td>0.747769</td>\n",
       "      <td>0.714827</td>\n",
       "      <td>256.0</td>\n",
       "      <td>0.005</td>\n",
       "      <td>0.822209</td>\n",
       "      <td>0.822476</td>\n",
       "    </tr>\n",
       "    <tr>\n",
       "      <th>12</th>\n",
       "      <td>0.720377</td>\n",
       "      <td>0.720377</td>\n",
       "      <td>0.652476</td>\n",
       "      <td>256.0</td>\n",
       "      <td>0.010</td>\n",
       "      <td>0.861732</td>\n",
       "      <td>0.814196</td>\n",
       "    </tr>\n",
       "  </tbody>\n",
       "</table>\n",
       "</div>"
      ],
      "text/plain": [
       "    accuracy_score  balanced_accuracy_score  f1_score  hidden_dim     lr  \\\n",
       "7         0.742597                 0.742597  0.727301        16.0  0.005   \n",
       "8         0.746253                 0.746253  0.719929        16.0  0.010   \n",
       "9         0.753425                 0.753425  0.729343        64.0  0.005   \n",
       "10        0.754984                 0.754984  0.737978        64.0  0.010   \n",
       "11        0.747769                 0.747769  0.714827       256.0  0.005   \n",
       "12        0.720377                 0.720377  0.652476       256.0  0.010   \n",
       "\n",
       "    precision_score  roc_auc_score  \n",
       "7          0.773252       0.802886  \n",
       "8          0.803261       0.810289  \n",
       "9          0.808287       0.823507  \n",
       "10         0.793019       0.822192  \n",
       "11         0.822209       0.822476  \n",
       "12         0.861732       0.814196  "
      ]
     },
     "execution_count": 27,
     "metadata": {},
     "output_type": "execute_result"
    }
   ],
   "source": [
    "df_result.iloc[7:, 1:]"
   ]
  }
 ],
 "metadata": {
  "colab": {
   "provenance": []
  },
  "kernelspec": {
   "display_name": "Python 3",
   "language": "python",
   "name": "python3"
  },
  "language_info": {
   "codemirror_mode": {
    "name": "ipython",
    "version": 3
   },
   "file_extension": ".py",
   "mimetype": "text/x-python",
   "name": "python",
   "nbconvert_exporter": "python",
   "pygments_lexer": "ipython3",
   "version": "3.8.8"
  }
 },
 "nbformat": 4,
 "nbformat_minor": 5
}
